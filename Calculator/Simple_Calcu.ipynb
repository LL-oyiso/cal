{
 "cells": [
  {
   "cell_type": "code",
   "execution_count": null,
   "id": "40a68c1e",
   "metadata": {},
   "outputs": [
    {
     "name": "stdout",
     "output_type": "stream",
     "text": [
      "Welcome to the Finance Calculator!\n",
      "1. Investment Calculator\n",
      "2. Bond Repayment Calculator\n"
     ]
    }
   ],
   "source": [
    "import math\n",
    "\n",
    "def investment_calculator():\n",
    "    amount = float(input(\"Enter the amount of money you are depositing: \"))\n",
    "    interest_rate = float(input(\"Enter the interest rate (as a percentage): \")) / 100\n",
    "    years = int(input(\"Enter the number of years you plan to invest for: \"))\n",
    "    interest = input(\"Enter 'simple' or 'compound' interest: \")\n",
    "\n",
    "    if interest.lower() == \"simple\":\n",
    "        total_amount = amount * (1 + interest_rate * years)\n",
    "    elif interest.lower() == \"compound\":\n",
    "        total_amount = amount * math.pow((1 + interest_rate), years)\n",
    "    else:\n",
    "        print(\"Invalid interest type. Please enter 'simple' or 'compound'.\")\n",
    "        return\n",
    "\n",
    "    print(\"Total amount after {} years: {}\".format(years, total_amount))\n",
    "\n",
    "def bond_calculator():\n",
    "    present_value = float(input(\"Enter the present value of the house: \"))\n",
    "    interest_rate = float(input(\"Enter the interest rate: \"))\n",
    "    months = int(input(\"Enter the number of months for bond repayment: \"))\n",
    "    monthly_interest_rate = (interest_rate / 100) / 12\n",
    "    repayment = (monthly_interest_rate * present_value) / (1 - math.pow((1 + monthly_interest_rate), -months))\n",
    "\n",
    "    print(\"Monthly bond repayment: {}\".format(repayment))\n",
    "    \n",
    "def finance_calculator():\n",
    "    print(\"Welcome to the Finance Calculator!\")\n",
    "    print(\"1. Investment Calculator\")\n",
    "    print(\"2. Bond Repayment Calculator\")\n",
    "    choice = input(\"Enter your choice (1 or 2): \")\n",
    "\n",
    "    if choice == \"1\":\n",
    "        investment_calculator()\n",
    "    elif choice == \"2\":\n",
    "        bond_calculator()\n",
    "    else:\n",
    "        print(\"Invalid choice. Please enter either 1 or 2.\")\n",
    "\n",
    "        choice = input(\"Enter your choice (1 or 2): \")\n",
    "\n",
    "finance_calculator()"
   ]
  },
  {
   "cell_type": "code",
   "execution_count": null,
   "id": "1839b56d",
   "metadata": {},
   "outputs": [],
   "source": []
  },
  {
   "cell_type": "code",
   "execution_count": null,
   "id": "13a5dff7",
   "metadata": {},
   "outputs": [],
   "source": []
  }
 ],
 "metadata": {
  "kernelspec": {
   "display_name": "Python 3 (ipykernel)",
   "language": "python",
   "name": "python3"
  },
  "language_info": {
   "codemirror_mode": {
    "name": "ipython",
    "version": 3
   },
   "file_extension": ".py",
   "mimetype": "text/x-python",
   "name": "python",
   "nbconvert_exporter": "python",
   "pygments_lexer": "ipython3",
   "version": "3.10.9"
  }
 },
 "nbformat": 4,
 "nbformat_minor": 5
}
